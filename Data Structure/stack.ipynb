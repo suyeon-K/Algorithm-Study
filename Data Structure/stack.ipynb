{
 "cells": [
  {
   "cell_type": "markdown",
   "id": "e3e7d8d3-0df0-454d-8c7f-3510b507e8c5",
   "metadata": {},
   "source": [
    "![image.png](attachment:1376042b-4d8b-4f45-b35c-53f05f72d51c.png)"
   ]
  },
  {
   "cell_type": "code",
   "execution_count": null,
   "id": "f5e82a80-e955-453d-ab80-52657969b632",
   "metadata": {},
   "outputs": [],
   "source": [
    "class Stack:\n",
    "    def __init__(self,N):\n",
    "        self.stack = [0 for i in range(N)]\n",
    "        self.sz = 0\n",
    "    \n",
    "    def size(self):\n",
    "        return self.sz\n",
    "    \n",
    "    def empty(self):\n",
    "        if self.sz == 0:\n",
    "            return 1\n",
    "        else:\n",
    "            return 0\n",
    "    \n",
    "    def top(self):\n",
    "        if self.sz == 0:\n",
    "            return -1\n",
    "        else:\n",
    "            return self.stack[self.sz-1]\n",
    "    \n",
    "    def push(self, x):\n",
    "        self.stack[self.sz] = x\n",
    "        self.sz += 1\n",
    "    \n",
    "    def pop(self):\n",
    "        if self.sz == 0:\n",
    "            return -1\n",
    "        else:\n",
    "            self.sz -= 1\n",
    "            return self.stack[self.sz]"
   ]
  },
  {
   "cell_type": "code",
   "execution_count": null,
   "id": "afb6614f-3b30-4b9a-a3b2-59786dfce3b1",
   "metadata": {},
   "outputs": [],
   "source": [
    "N = int(input())\n",
    "\n",
    "sc = Stack(N)\n",
    "\n",
    "for i in range(N):\n",
    "    \n",
    "    s = input().split()\n",
    "    \n",
    "    if s[0] == \"push\":\n",
    "        sc.push(int(s[1]))\n",
    "    elif s[0] == \"pop\":\n",
    "        print(sc.pop())\n",
    "    elif s[0] == \"top\":\n",
    "        print(sc.top())\n",
    "    elif s[0] == \"size\":\n",
    "        print(sc.size())\n",
    "    elif s[0] == \"empty\":\n",
    "        print(sc.empty())"
   ]
  }
 ],
 "metadata": {
  "kernelspec": {
   "display_name": "Python 3",
   "language": "python",
   "name": "python3"
  },
  "language_info": {
   "codemirror_mode": {
    "name": "ipython",
    "version": 3
   },
   "file_extension": ".py",
   "mimetype": "text/x-python",
   "name": "python",
   "nbconvert_exporter": "python",
   "pygments_lexer": "ipython3",
   "version": "3.8.8"
  }
 },
 "nbformat": 4,
 "nbformat_minor": 5
}
